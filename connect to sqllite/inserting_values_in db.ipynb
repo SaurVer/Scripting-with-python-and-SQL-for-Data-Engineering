{
 "cells": [
  {
   "cell_type": "code",
   "execution_count": 5,
   "metadata": {},
   "outputs": [
    {
     "data": {
      "text/plain": [
       "[['Aaron', 'Zimmerman'],\n",
       " ['Diane', 'Harvey'],\n",
       " ['Holly', 'Harris'],\n",
       " ['Sierra', 'Dickerson'],\n",
       " ['Marie', 'Zimmerman'],\n",
       " ['Jared', 'Adams'],\n",
       " ['Maria', 'Williams'],\n",
       " ['Lauren', 'Bowman'],\n",
       " ['Christina', 'Erickson'],\n",
       " ['Felicia', 'Parker'],\n",
       " ['Zachary', 'Wilson'],\n",
       " ['Matthew', 'Friedman'],\n",
       " ['Jacob', 'Grimes'],\n",
       " ['Tyler', 'Patel'],\n",
       " ['Angela', 'Jones'],\n",
       " ['Timothy', 'Warren'],\n",
       " ['Anthony', 'Obrien'],\n",
       " ['James', 'Butler'],\n",
       " ['Sandra', 'Williams'],\n",
       " ['Mark', 'Thompson'],\n",
       " ['Andrea', 'Drake'],\n",
       " ['Kenneth', 'Moses'],\n",
       " ['Cindy', 'Wallace'],\n",
       " ['Matthew', 'Hamilton'],\n",
       " ['Nicole', 'Daniel'],\n",
       " ['Stephanie', 'Bishop'],\n",
       " ['Malik', 'Diaz'],\n",
       " ['Catherine', 'Greene'],\n",
       " ['Patricia', 'Watson'],\n",
       " ['Michele', 'Barber'],\n",
       " ['Cindy', 'James'],\n",
       " ['Kelsey', 'Butler'],\n",
       " ['Lisa', 'Garcia'],\n",
       " ['Taylor', 'Velasquez'],\n",
       " ['Michael', 'Nguyen'],\n",
       " ['John', 'Morton'],\n",
       " ['Willie', 'Chase'],\n",
       " ['Derrick', 'Wilson'],\n",
       " ['Melissa', 'Drake'],\n",
       " ['Sydney', 'Perkins'],\n",
       " ['Gregory', 'Cook'],\n",
       " ['Rebecca', 'Stephenson'],\n",
       " ['Michael', 'Stein'],\n",
       " ['Jennifer', 'Powell'],\n",
       " ['Amy', 'Smith'],\n",
       " ['Laura', 'Richardson'],\n",
       " ['Andrew', 'Oliver'],\n",
       " ['Andrew', 'French'],\n",
       " ['Miranda', 'Fleming'],\n",
       " ['Charles', 'Martinez'],\n",
       " ['Jay', 'Clark'],\n",
       " ['Jennifer', 'Miles'],\n",
       " ['Karina', 'Clark'],\n",
       " ['Rebecca', 'Byrd'],\n",
       " ['Joseph', 'Thomas'],\n",
       " ['Kyle', 'Moore'],\n",
       " ['Christopher', 'Hobbs'],\n",
       " ['Bryan', 'Roberts'],\n",
       " ['Timothy', 'Smith'],\n",
       " ['Amanda', 'Johnson'],\n",
       " ['Marc', 'Foley'],\n",
       " ['Aaron', 'Moore'],\n",
       " ['Mike', 'Nelson'],\n",
       " ['Alicia', 'Armstrong'],\n",
       " ['Christopher', 'Campbell'],\n",
       " ['Michael', 'Baker'],\n",
       " ['Nicole', 'Farley'],\n",
       " ['Matthew', 'Ray'],\n",
       " ['Cody', 'Welch'],\n",
       " ['William', 'Leonard'],\n",
       " ['Sarah', 'Yoder'],\n",
       " ['Carrie', 'Davenport'],\n",
       " ['Jennifer', 'Mason'],\n",
       " ['Michelle', 'Robinson'],\n",
       " ['Destiny', 'Hines'],\n",
       " ['Misty', 'Crawford'],\n",
       " ['Autumn', 'Johnson'],\n",
       " ['Aaron', 'Davies'],\n",
       " ['Charles', 'Knight'],\n",
       " ['Kayla', 'Andrews'],\n",
       " ['Lee', 'Herrera'],\n",
       " ['Ross', 'Jones'],\n",
       " ['Kathryn', 'Lucas'],\n",
       " ['Stephen', 'Wilson'],\n",
       " ['Rachel', 'Chavez'],\n",
       " ['Earl', 'Rodriguez'],\n",
       " ['John', 'Booth'],\n",
       " ['Bill', 'Nunez'],\n",
       " ['Matthew', 'Moreno'],\n",
       " ['Heather', 'Castillo'],\n",
       " ['Carolyn', 'Sanchez'],\n",
       " ['Erika', 'Hood'],\n",
       " ['Meghan', 'Garza'],\n",
       " ['James', 'Smith'],\n",
       " ['Christopher', 'Johnson']]"
      ]
     },
     "execution_count": 5,
     "metadata": {},
     "output_type": "execute_result"
    }
   ],
   "source": [
    "from faker import Faker\n",
    "fake_names= Faker()\n",
    "\n",
    "names = [fake_names.name().split() for i in range(100)]\n",
    "names = [name for name in names if len(name)==2]\n",
    "names"
   ]
  },
  {
   "cell_type": "code",
   "execution_count": 12,
   "metadata": {},
   "outputs": [],
   "source": [
    "import sqlite3\n",
    "\n",
    "connection = sqlite3.connect('sample.db')"
   ]
  },
  {
   "cell_type": "code",
   "execution_count": 13,
   "metadata": {},
   "outputs": [],
   "source": [
    "insert_query = 'INSERT INTO people(name, surname) VALUES(?, ?)'\n",
    "cursor = connection.cursor()\n",
    "for name in names:\n",
    "    cursor.execute(insert_query, name)\n",
    "\n",
    "connection.commit()"
   ]
  },
  {
   "cell_type": "code",
   "execution_count": 15,
   "metadata": {},
   "outputs": [
    {
     "name": "stdout",
     "output_type": "stream",
     "text": [
      "(1, 'Aaron', 'Zimmerman')\n",
      "(2, 'Diane', 'Harvey')\n",
      "(3, 'Holly', 'Harris')\n",
      "(4, 'Sierra', 'Dickerson')\n",
      "(5, 'Marie', 'Zimmerman')\n",
      "(6, 'Jared', 'Adams')\n",
      "(7, 'Maria', 'Williams')\n",
      "(8, 'Lauren', 'Bowman')\n",
      "(9, 'Christina', 'Erickson')\n",
      "(10, 'Felicia', 'Parker')\n"
     ]
    }
   ],
   "source": [
    "select_query = 'Select * from people limit 10'\n",
    "\n",
    "output= cursor.execute(select_query)\n",
    "for i in output:\n",
    "    print(i)"
   ]
  },
  {
   "cell_type": "code",
   "execution_count": null,
   "metadata": {},
   "outputs": [],
   "source": []
  }
 ],
 "metadata": {
  "kernelspec": {
   "display_name": "Python 3",
   "language": "python",
   "name": "python3"
  },
  "language_info": {
   "codemirror_mode": {
    "name": "ipython",
    "version": 3
   },
   "file_extension": ".py",
   "mimetype": "text/x-python",
   "name": "python",
   "nbconvert_exporter": "python",
   "pygments_lexer": "ipython3",
   "version": "3.9.6"
  }
 },
 "nbformat": 4,
 "nbformat_minor": 2
}
