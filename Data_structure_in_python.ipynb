{
 "cells": [
  {
   "cell_type": "code",
   "execution_count": 3,
   "metadata": {},
   "outputs": [
    {
     "data": {
      "text/plain": [
       "['.oryx', 'Scripting-with-python-and-SQL-for-Data-Engineering', '.codespaces']"
      ]
     },
     "execution_count": 3,
     "metadata": {},
     "output_type": "execute_result"
    }
   ],
   "source": [
    "import os\n",
    "directories = os.listdir(\"/workspaces\")\n",
    "directories"
   ]
  },
  {
   "cell_type": "code",
   "execution_count": 1,
   "metadata": {},
   "outputs": [],
   "source": [
    "#tuple - Read only lists, immutable"
   ]
  },
  {
   "cell_type": "code",
   "execution_count": 3,
   "metadata": {},
   "outputs": [
    {
     "name": "stdout",
     "output_type": "stream",
     "text": [
      "a alpha\n",
      "b beta\n",
      "c cat\n"
     ]
    }
   ],
   "source": [
    "contacts= {'a': \"alpha\", \"b\": \"beta\", 'c': \"cat\"}\n",
    "\n",
    "for key, value in contacts.items():\n",
    "    print(key,value)"
   ]
  },
  {
   "cell_type": "code",
   "execution_count": 5,
   "metadata": {},
   "outputs": [
    {
     "data": {
      "text/plain": [
       "['codespace', 'vscode']"
      ]
     },
     "execution_count": 5,
     "metadata": {},
     "output_type": "execute_result"
    }
   ],
   "source": [
    "home_items = os.listdir('/home')\n",
    "home_items"
   ]
  },
  {
   "cell_type": "code",
   "execution_count": 7,
   "metadata": {},
   "outputs": [
    {
     "data": {
      "text/plain": [
       "['/Users/saurabh/codespace', '/Users/saurabh/vscode']"
      ]
     },
     "execution_count": 7,
     "metadata": {},
     "output_type": "execute_result"
    }
   ],
   "source": [
    "home_paths= [os.path.join('/Users/saurabh', items) for items in home_items]\n",
    "home_paths"
   ]
  },
  {
   "cell_type": "code",
   "execution_count": 8,
   "metadata": {},
   "outputs": [
    {
     "data": {
      "text/plain": [
       "{'files': [], 'directories': []}"
      ]
     },
     "execution_count": 8,
     "metadata": {},
     "output_type": "execute_result"
    }
   ],
   "source": [
    "home_contents = {\"files\": [], \"directories\": []}\n",
    "for path in home_paths:\n",
    "    if os.path.isdir(path):\n",
    "        home_contents['directories'].append([path])\n",
    "\n",
    "home_contents"
   ]
  },
  {
   "cell_type": "code",
   "execution_count": 14,
   "metadata": {},
   "outputs": [
    {
     "data": {
      "text/plain": [
       "['usr',\n",
       " 'boot',\n",
       " 'lib32',\n",
       " 'sbin',\n",
       " 'var',\n",
       " 'dev',\n",
       " 'lib64',\n",
       " 'sys',\n",
       " 'bin',\n",
       " 'home',\n",
       " 'proc',\n",
       " 'root',\n",
       " 'libx32',\n",
       " 'mnt',\n",
       " 'etc',\n",
       " 'lib',\n",
       " 'media',\n",
       " 'srv',\n",
       " 'tmp',\n",
       " 'opt',\n",
       " 'run',\n",
       " 'workspaces',\n",
       " '.codespaces',\n",
       " 'vscode',\n",
       " '.dockerenv',\n",
       " 'go']"
      ]
     },
     "execution_count": 14,
     "metadata": {},
     "output_type": "execute_result"
    }
   ],
   "source": [
    "os.listdir('/')"
   ]
  },
  {
   "cell_type": "code",
   "execution_count": null,
   "metadata": {},
   "outputs": [],
   "source": []
  }
 ],
 "metadata": {
  "kernelspec": {
   "display_name": "Python 3",
   "language": "python",
   "name": "python3"
  },
  "language_info": {
   "codemirror_mode": {
    "name": "ipython",
    "version": 3
   },
   "file_extension": ".py",
   "mimetype": "text/x-python",
   "name": "python",
   "nbconvert_exporter": "python",
   "pygments_lexer": "ipython3",
   "version": "3.10.13"
  }
 },
 "nbformat": 4,
 "nbformat_minor": 2
}
